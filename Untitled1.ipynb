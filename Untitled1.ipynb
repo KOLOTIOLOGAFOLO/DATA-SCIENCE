{
 "cells": [
  {
   "cell_type": "markdown",
   "id": "bcd90d52-d11e-43c7-ab44-73eba1c82848",
   "metadata": {},
   "source": [
    "### Pandas"
   ]
  },
  {
   "cell_type": "code",
   "execution_count": 10,
   "id": "5d5af754-5583-430e-a2eb-2995ad809ba2",
   "metadata": {
    "tags": []
   },
   "outputs": [],
   "source": [
    "import pandas as pd\n",
    "import numpy as np\n",
    "import io\n",
    "\n",
    "dt = pd.read_csv(\"C:/Users/hp/Downloads/economie_data.csv\")"
   ]
  },
  {
   "cell_type": "code",
   "execution_count": null,
   "id": "846b15ab-d6a2-4702-9364-50744a2361de",
   "metadata": {},
   "outputs": [],
   "source": [
    "#Se documenter sur les paramettres de la fonction \"pandas.read_csv\""
   ]
  },
  {
   "cell_type": "code",
   "execution_count": null,
   "id": "bede1229-53c3-41de-ba95-0061daee3443",
   "metadata": {},
   "outputs": [],
   "source": [
    "#Se documenter sur les paramettres de la fonction \"pandas.read_excel\""
   ]
  },
  {
   "cell_type": "code",
   "execution_count": null,
   "id": "c98cacce-459a-4a0b-90f9-5c56a1d21b0b",
   "metadata": {},
   "outputs": [],
   "source": [
    "#afficher les types de données dans chaque columns"
   ]
  },
  {
   "cell_type": "code",
   "execution_count": 14,
   "id": "34512852-55d3-4ea5-97b5-9f373262f2ca",
   "metadata": {
    "tags": []
   },
   "outputs": [
    {
     "data": {
      "text/html": [
       "<div>\n",
       "<style scoped>\n",
       "    .dataframe tbody tr th:only-of-type {\n",
       "        vertical-align: middle;\n",
       "    }\n",
       "\n",
       "    .dataframe tbody tr th {\n",
       "        vertical-align: top;\n",
       "    }\n",
       "\n",
       "    .dataframe thead th {\n",
       "        text-align: right;\n",
       "    }\n",
       "</style>\n",
       "<table border=\"1\" class=\"dataframe\">\n",
       "  <thead>\n",
       "    <tr style=\"text-align: right;\">\n",
       "      <th></th>\n",
       "      <th>Period</th>\n",
       "      <th>Inst_sector</th>\n",
       "      <th>Inst_sector_code</th>\n",
       "      <th>Descriptor</th>\n",
       "      <th>SNA08TRANS</th>\n",
       "      <th>Asset_liability_code</th>\n",
       "      <th>Values</th>\n",
       "    </tr>\n",
       "  </thead>\n",
       "  <tbody>\n",
       "    <tr>\n",
       "      <th>0</th>\n",
       "      <td>2007.03</td>\n",
       "      <td>Non-corporate business enterprises</td>\n",
       "      <td>121</td>\n",
       "      <td>ISA Saving (net)</td>\n",
       "      <td>B08N000</td>\n",
       "      <td>ISA</td>\n",
       "      <td>0</td>\n",
       "    </tr>\n",
       "    <tr>\n",
       "      <th>1</th>\n",
       "      <td>2007.03</td>\n",
       "      <td>Non-corporate business enterprises</td>\n",
       "      <td>121</td>\n",
       "      <td>Statistical discrepancy - net lending (+) / ne...</td>\n",
       "      <td>B090000</td>\n",
       "      <td>A000000</td>\n",
       "      <td>0</td>\n",
       "    </tr>\n",
       "    <tr>\n",
       "      <th>2</th>\n",
       "      <td>2007.03</td>\n",
       "      <td>Non-corporate business enterprises</td>\n",
       "      <td>121</td>\n",
       "      <td>Total net transactions in non-financial assets</td>\n",
       "      <td>B091N00</td>\n",
       "      <td>AN00000</td>\n",
       "      <td>0</td>\n",
       "    </tr>\n",
       "  </tbody>\n",
       "</table>\n",
       "</div>"
      ],
      "text/plain": [
       "    Period                         Inst_sector  Inst_sector_code  \\\n",
       "0  2007.03  Non-corporate business enterprises               121   \n",
       "1  2007.03  Non-corporate business enterprises               121   \n",
       "2  2007.03  Non-corporate business enterprises               121   \n",
       "\n",
       "                                          Descriptor SNA08TRANS  \\\n",
       "0                                   ISA Saving (net)    B08N000   \n",
       "1  Statistical discrepancy - net lending (+) / ne...    B090000   \n",
       "2     Total net transactions in non-financial assets    B091N00   \n",
       "\n",
       "  Asset_liability_code Values  \n",
       "0                  ISA      0  \n",
       "1              A000000      0  \n",
       "2              AN00000      0  "
      ]
     },
     "execution_count": 14,
     "metadata": {},
     "output_type": "execute_result"
    }
   ],
   "source": [
    "dt.head(3)\n",
    "#la fonction head() permet d'afficher les n 1eres lignes d'une FataFrame par défaut 5"
   ]
  },
  {
   "cell_type": "code",
   "execution_count": 22,
   "id": "6644591f-7331-4570-bfbf-0465deb6da59",
   "metadata": {
    "tags": []
   },
   "outputs": [
    {
     "data": {
      "text/html": [
       "<div>\n",
       "<style scoped>\n",
       "    .dataframe tbody tr th:only-of-type {\n",
       "        vertical-align: middle;\n",
       "    }\n",
       "\n",
       "    .dataframe tbody tr th {\n",
       "        vertical-align: top;\n",
       "    }\n",
       "\n",
       "    .dataframe thead th {\n",
       "        text-align: right;\n",
       "    }\n",
       "</style>\n",
       "<table border=\"1\" class=\"dataframe\">\n",
       "  <thead>\n",
       "    <tr style=\"text-align: right;\">\n",
       "      <th></th>\n",
       "      <th>Period</th>\n",
       "      <th>Values</th>\n",
       "    </tr>\n",
       "  </thead>\n",
       "  <tbody>\n",
       "    <tr>\n",
       "      <th>0</th>\n",
       "      <td>2007.03</td>\n",
       "      <td>0</td>\n",
       "    </tr>\n",
       "    <tr>\n",
       "      <th>1</th>\n",
       "      <td>2007.03</td>\n",
       "      <td>0</td>\n",
       "    </tr>\n",
       "    <tr>\n",
       "      <th>2</th>\n",
       "      <td>2007.03</td>\n",
       "      <td>0</td>\n",
       "    </tr>\n",
       "    <tr>\n",
       "      <th>3</th>\n",
       "      <td>2007.03</td>\n",
       "      <td>0</td>\n",
       "    </tr>\n",
       "    <tr>\n",
       "      <th>4</th>\n",
       "      <td>2007.03</td>\n",
       "      <td>0</td>\n",
       "    </tr>\n",
       "  </tbody>\n",
       "</table>\n",
       "</div>"
      ],
      "text/plain": [
       "    Period Values\n",
       "0  2007.03      0\n",
       "1  2007.03      0\n",
       "2  2007.03      0\n",
       "3  2007.03      0\n",
       "4  2007.03      0"
      ]
     },
     "execution_count": 22,
     "metadata": {},
     "output_type": "execute_result"
    }
   ],
   "source": [
    "dt[[\"Period\",\"Values\"]].head()"
   ]
  },
  {
   "cell_type": "code",
   "execution_count": 38,
   "id": "9b7acf56-48f8-4e39-ae6d-2f8114e32d7b",
   "metadata": {
    "tags": []
   },
   "outputs": [
    {
     "data": {
      "text/plain": [
       "(31312, 7)"
      ]
     },
     "execution_count": 38,
     "metadata": {},
     "output_type": "execute_result"
    }
   ],
   "source": [
    "dt.shape"
   ]
  },
  {
   "cell_type": "code",
   "execution_count": 44,
   "id": "791c0667-50e1-4bda-8a89-3f8f20805077",
   "metadata": {
    "tags": []
   },
   "outputs": [
    {
     "data": {
      "text/plain": [
       "Index(['Period', 'Inst_sector', 'Inst_sector_code', 'Descriptor', 'SNA08TRANS',\n",
       "       'Asset_liability_code', 'Values'],\n",
       "      dtype='object')"
      ]
     },
     "execution_count": 44,
     "metadata": {},
     "output_type": "execute_result"
    }
   ],
   "source": [
    "dt.columns"
   ]
  },
  {
   "cell_type": "code",
   "execution_count": 48,
   "id": "03ef3c01-dd1a-4fe1-a883-2c6b380f19fe",
   "metadata": {
    "tags": []
   },
   "outputs": [],
   "source": [
    "#Compter le nombre d'élément d'une liste "
   ]
  },
  {
   "cell_type": "code",
   "execution_count": null,
   "id": "e472bc70-1bba-4231-8bd1-51f24a8f628b",
   "metadata": {},
   "outputs": [],
   "source": [
    "#Compter quelque dernières lignes d'une DataFrame"
   ]
  },
  {
   "cell_type": "markdown",
   "id": "cfae34ea-bcf6-4507-96ec-38eafb254b09",
   "metadata": {},
   "source": [
    "### List"
   ]
  },
  {
   "cell_type": "code",
   "execution_count": 52,
   "id": "cb73571a-4a27-46cf-9265-f54992330c12",
   "metadata": {
    "tags": []
   },
   "outputs": [],
   "source": [
    "malist = ['josue','ezechiel','esaie','dodo','julie','viviane']"
   ]
  },
  {
   "cell_type": "code",
   "execution_count": 54,
   "id": "8be72b47-221d-4d60-91f9-a35e41407e49",
   "metadata": {
    "tags": []
   },
   "outputs": [
    {
     "data": {
      "text/plain": [
       "['josue', 'ezechiel', 'esaie', 'dodo', 'julie', 'viviane']"
      ]
     },
     "execution_count": 54,
     "metadata": {},
     "output_type": "execute_result"
    }
   ],
   "source": [
    "malist"
   ]
  },
  {
   "cell_type": "code",
   "execution_count": 78,
   "id": "d29f2086-993f-4f4d-9be5-605c8587b4de",
   "metadata": {
    "tags": []
   },
   "outputs": [
    {
     "name": "stdout",
     "output_type": "stream",
     "text": [
      "josue@ezechiel@esaie#"
     ]
    }
   ],
   "source": [
    "print('josue','ezechiel','esaie', end=\"#\", sep=\"@\")\n",
    "#la difference entre le end=\"\" et sep=\"\""
   ]
  },
  {
   "cell_type": "code",
   "execution_count": 80,
   "id": "bcc77ba0-d753-4bc4-ad04-1ad4cb72c689",
   "metadata": {
    "tags": []
   },
   "outputs": [
    {
     "name": "stdout",
     "output_type": "stream",
     "text": [
      "['josue', 'ezechiel', 'esaie', 'dodo', 'julie', 'viviane']\n"
     ]
    }
   ],
   "source": [
    "print(malist)"
   ]
  },
  {
   "cell_type": "code",
   "execution_count": 88,
   "id": "80bf0759-e5ca-43f4-ba60-aef90dccb9ed",
   "metadata": {
    "tags": []
   },
   "outputs": [
    {
     "name": "stdout",
     "output_type": "stream",
     "text": [
      "josue\n",
      "ezechiel\n",
      "esaie\n",
      "dodo\n",
      "julie\n",
      "viviane\n"
     ]
    }
   ],
   "source": [
    "for i in malist:\n",
    "    print(i)"
   ]
  },
  {
   "cell_type": "code",
   "execution_count": 92,
   "id": "5c9bafd3-0fed-4b8d-9bf7-8bc3484e2de0",
   "metadata": {
    "tags": []
   },
   "outputs": [
    {
     "data": {
      "text/plain": [
       "['josue', 'ezechiel', 'esaie', 'dodo', 'julie', 'viviane', 'Marie', 'Marie']"
      ]
     },
     "execution_count": 92,
     "metadata": {},
     "output_type": "execute_result"
    }
   ],
   "source": [
    "malist.append('Marie')"
   ]
  },
  {
   "cell_type": "code",
   "execution_count": null,
   "id": "5b0494c9-4a3e-469c-ac32-fec23346eb43",
   "metadata": {},
   "outputs": [],
   "source": [
    "#Afficher les éléments d'une liste de façon distinct"
   ]
  },
  {
   "cell_type": "code",
   "execution_count": 94,
   "id": "cd3fd367-dc5e-4b74-894d-2aaeb7e67c17",
   "metadata": {
    "tags": []
   },
   "outputs": [],
   "source": [
    "malist.remove('Marie')"
   ]
  },
  {
   "cell_type": "code",
   "execution_count": 96,
   "id": "4b1a6c0d-44a4-4918-93ac-d65e19f36e43",
   "metadata": {
    "tags": []
   },
   "outputs": [
    {
     "data": {
      "text/plain": [
       "['josue', 'ezechiel', 'esaie', 'dodo', 'julie', 'viviane', 'Marie']"
      ]
     },
     "execution_count": 96,
     "metadata": {},
     "output_type": "execute_result"
    }
   ],
   "source": [
    "malist"
   ]
  },
  {
   "cell_type": "code",
   "execution_count": 98,
   "id": "e913c8d3-c35b-4b0c-81ea-e524437bf178",
   "metadata": {
    "tags": []
   },
   "outputs": [
    {
     "data": {
      "text/plain": [
       "'dodo'"
      ]
     },
     "execution_count": 98,
     "metadata": {},
     "output_type": "execute_result"
    }
   ],
   "source": [
    "malist.pop(3)"
   ]
  },
  {
   "cell_type": "code",
   "execution_count": 100,
   "id": "8fbf054b-dbbe-4f40-b50b-88928272f24a",
   "metadata": {
    "tags": []
   },
   "outputs": [
    {
     "data": {
      "text/plain": [
       "['josue', 'ezechiel', 'esaie', 'julie', 'viviane', 'Marie']"
      ]
     },
     "execution_count": 100,
     "metadata": {},
     "output_type": "execute_result"
    }
   ],
   "source": [
    "malist"
   ]
  },
  {
   "cell_type": "code",
   "execution_count": 102,
   "id": "cbf46b5f-ef7b-48f6-ad93-4cefb9e88757",
   "metadata": {
    "tags": []
   },
   "outputs": [],
   "source": [
    "malist.append(\"esaie\")"
   ]
  },
  {
   "cell_type": "code",
   "execution_count": 104,
   "id": "e50d31c0-b5eb-41a4-b4ca-40ef707f1714",
   "metadata": {
    "tags": []
   },
   "outputs": [
    {
     "data": {
      "text/plain": [
       "['josue', 'ezechiel', 'esaie', 'julie', 'viviane', 'Marie', 'esaie']"
      ]
     },
     "execution_count": 104,
     "metadata": {},
     "output_type": "execute_result"
    }
   ],
   "source": [
    "malist"
   ]
  },
  {
   "cell_type": "code",
   "execution_count": 106,
   "id": "b6380274-7bb2-491d-a997-4123a9d35425",
   "metadata": {
    "tags": []
   },
   "outputs": [
    {
     "data": {
      "text/plain": [
       "2"
      ]
     },
     "execution_count": 106,
     "metadata": {},
     "output_type": "execute_result"
    }
   ],
   "source": [
    "malist.count(\"esaie\")"
   ]
  },
  {
   "cell_type": "code",
   "execution_count": null,
   "id": "79f39d4e-cbf8-4ee9-bc11-233e03ab24d0",
   "metadata": {},
   "outputs": [],
   "source": [
    "#le nombre d'élément d'une liste"
   ]
  },
  {
   "cell_type": "code",
   "execution_count": null,
   "id": "79ec79e8-e763-4fcf-adf7-207e5c5ff5df",
   "metadata": {},
   "outputs": [],
   "source": [
    "#Ajouter un élément dans une liste à une position n donnée "
   ]
  },
  {
   "cell_type": "code",
   "execution_count": 117,
   "id": "cde8a849-9f44-4ff2-9654-b21c7047e227",
   "metadata": {
    "tags": []
   },
   "outputs": [],
   "source": [
    "listcomplement=[\"Daniel\",\"Rebecca\",\"Alice\"]"
   ]
  },
  {
   "cell_type": "code",
   "execution_count": 119,
   "id": "33f16908-9a10-4d64-8c74-c09fa4a25ee7",
   "metadata": {
    "tags": []
   },
   "outputs": [],
   "source": [
    "for i in listcomplement:\n",
    "    malist.append(i)"
   ]
  },
  {
   "cell_type": "code",
   "execution_count": 121,
   "id": "2ff610c4-2708-46c7-90f3-226922d12092",
   "metadata": {
    "tags": []
   },
   "outputs": [
    {
     "data": {
      "text/plain": [
       "['josue',\n",
       " 'ezechiel',\n",
       " 'esaie',\n",
       " 'julie',\n",
       " 'viviane',\n",
       " 'Marie',\n",
       " 'esaie',\n",
       " 'Daniel',\n",
       " 'Rebecca',\n",
       " 'Alice']"
      ]
     },
     "execution_count": 121,
     "metadata": {},
     "output_type": "execute_result"
    }
   ],
   "source": [
    "malist"
   ]
  },
  {
   "cell_type": "code",
   "execution_count": 123,
   "id": "62524863-c00d-4805-ab60-a02e45572327",
   "metadata": {
    "tags": []
   },
   "outputs": [],
   "source": [
    "list1 = ['jo','ko','ok']"
   ]
  },
  {
   "cell_type": "code",
   "execution_count": 125,
   "id": "51dd9621-7f98-4bdd-9f3f-a7e458c789fb",
   "metadata": {
    "tags": []
   },
   "outputs": [],
   "source": [
    "malist.extend(list1)"
   ]
  },
  {
   "cell_type": "code",
   "execution_count": 127,
   "id": "07deb930-59ea-4322-b90d-30bca2d7b79e",
   "metadata": {
    "tags": []
   },
   "outputs": [
    {
     "data": {
      "text/plain": [
       "['josue',\n",
       " 'ezechiel',\n",
       " 'esaie',\n",
       " 'julie',\n",
       " 'viviane',\n",
       " 'Marie',\n",
       " 'esaie',\n",
       " 'Daniel',\n",
       " 'Rebecca',\n",
       " 'Alice',\n",
       " 'jo',\n",
       " 'ko',\n",
       " 'ok']"
      ]
     },
     "execution_count": 127,
     "metadata": {},
     "output_type": "execute_result"
    }
   ],
   "source": [
    "malist"
   ]
  },
  {
   "cell_type": "markdown",
   "id": "3019269c-ddf9-4064-8b69-bc272e5c23e3",
   "metadata": {},
   "source": [
    "### Dictionnaire"
   ]
  },
  {
   "cell_type": "markdown",
   "id": "a21ad8ce-2201-497a-b594-df0abf587140",
   "metadata": {},
   "source": [
    "### Tuple"
   ]
  },
  {
   "cell_type": "markdown",
   "id": "46f19e44-18f4-46f8-8da3-d5aeb93c066c",
   "metadata": {},
   "source": [
    "### SET"
   ]
  },
  {
   "cell_type": "code",
   "execution_count": null,
   "id": "115f0560-9a09-4e08-82c0-2c7ab6563041",
   "metadata": {},
   "outputs": [],
   "source": []
  }
 ],
 "metadata": {
  "kernelspec": {
   "display_name": "Python 3 (ipykernel)",
   "language": "python",
   "name": "python3"
  },
  "language_info": {
   "codemirror_mode": {
    "name": "ipython",
    "version": 3
   },
   "file_extension": ".py",
   "mimetype": "text/x-python",
   "name": "python",
   "nbconvert_exporter": "python",
   "pygments_lexer": "ipython3",
   "version": "3.11.7"
  }
 },
 "nbformat": 4,
 "nbformat_minor": 5
}
